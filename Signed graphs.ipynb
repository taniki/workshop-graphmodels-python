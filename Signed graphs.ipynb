{
 "cells": [
  {
   "cell_type": "code",
   "execution_count": 29,
   "metadata": {
    "collapsed": true
   },
   "outputs": [],
   "source": [
    "%matplotlib inline\n",
    "\n",
    "import networkx as nx\n",
    "import numpy as np"
   ]
  },
  {
   "cell_type": "code",
   "execution_count": 51,
   "metadata": {
    "collapsed": true
   },
   "outputs": [],
   "source": [
    "balanced_graph_1 = nx.Graph()\n",
    "balanced_graph_2 = nx.Graph()\n",
    "balanced_graph_3 = nx.Graph()\n",
    "balanced_graph_4 = nx.Graph()\n",
    "\n",
    "\n",
    "balanced_graph_1.add_edges_from([ (\"a\", \"b\", { \"sign\": +1 }),\n",
    "                                 (\"c\", \"b\", { \"sign\": +1 }),\n",
    "                                 (\"a\", \"c\", { \"sign\": +1 })])\n",
    "\n",
    "balanced_graph_2.add_edges_from([ (\"a\", \"b\", { \"sign\": +1 }),\n",
    "                                 (\"c\", \"b\", { \"sign\": -1 }),\n",
    "                                 (\"a\", \"c\", { \"sign\": -1 })])\n",
    "\n",
    "balanced_graph_3.add_edges_from([ (\"a\", \"b\", { \"sign\": -1 }),\n",
    "                                 (\"c\", \"b\", { \"sign\": +1 }),\n",
    "                                 (\"a\", \"c\", { \"sign\": -1 })])\n",
    "\n",
    "balanced_graph_4.add_edges_from([ (\"a\", \"b\", { \"sign\": -1 }),\n",
    "                                 (\"c\", \"b\", { \"sign\": -1 }),\n",
    "                                 (\"a\", \"c\", { \"sign\": +1 })])"
   ]
  },
  {
   "cell_type": "code",
   "execution_count": 52,
   "metadata": {
    "collapsed": true
   },
   "outputs": [],
   "source": [
    "unbalanced_graph_1 = nx.Graph()\n",
    "unbalanced_graph_2 = nx.Graph()\n",
    "unbalanced_graph_3 = nx.Graph()\n",
    "unbalanced_graph_4 = nx.Graph()\n",
    "\n",
    "unbalanced_graph_1.add_edges_from([ (\"a\", \"b\", { \"sign\": +1 }),\n",
    "                                 (\"c\", \"b\", { \"sign\": +1 }),\n",
    "                                 (\"a\", \"c\", { \"sign\": -1 })])\n",
    "\n",
    "unbalanced_graph_2.add_edges_from([ (\"a\", \"b\", { \"sign\": +1 }),\n",
    "                                 (\"c\", \"b\", { \"sign\": -1 }),\n",
    "                                 (\"a\", \"c\", { \"sign\": +1 })])\n",
    "\n",
    "unbalanced_graph_3.add_edges_from([ (\"a\", \"b\", { \"sign\": -1 }),\n",
    "                                 (\"c\", \"b\", { \"sign\": +1 }),\n",
    "                                 (\"a\", \"c\", { \"sign\": +1 })])\n",
    "\n",
    "unbalanced_graph_4.add_edges_from([ (\"a\", \"b\", { \"sign\": -1 }),\n",
    "                                 (\"c\", \"b\", { \"sign\": -1 }),\n",
    "                                 (\"a\", \"c\", { \"sign\": -1 })])"
   ]
  },
  {
   "cell_type": "code",
   "execution_count": 53,
   "metadata": {
    "collapsed": true
   },
   "outputs": [],
   "source": [
    "unbalanced_graph_5 = nx.Graph()\n",
    "\n",
    "unbalanced_graph_5.add_edges_from([ (\"a\", \"b\", { \"sign\": -1 }),\n",
    "                                   (\"a\", \"e\", { \"sign\": -1 }),\n",
    "                                   (\"b\", \"e\", { \"sign\": +1 }),\n",
    "                                   (\"a\", \"d\", { \"sign\": -1 }),\n",
    "                                   (\"d\", \"e\", { \"sign\": +1 }),\n",
    "                                   (\"b\", \"c\", { \"sign\": -1 }),\n",
    "                                   (\"d\", \"c\", { \"sign\": +1 })])"
   ]
  },
  {
   "cell_type": "code",
   "execution_count": 54,
   "metadata": {
    "collapsed": true
   },
   "outputs": [],
   "source": [
    "def draw_sign_graph():\n",
    "  pass"
   ]
  },
  {
   "cell_type": "code",
   "execution_count": 112,
   "metadata": {
    "collapsed": false
   },
   "outputs": [
    {
     "name": "stdout",
     "output_type": "stream",
     "text": [
      "[True, True, True, True]\n",
      "[False, False, False, False]\n",
      "[False]\n"
     ]
    }
   ],
   "source": [
    "def is_balanced(g):\n",
    "  tolerance = 1e-16\n",
    "  \n",
    "  J,dummy = nx.attr_matrix(g, edge_attr=\"sign\")\n",
    "  K = np.diag([ len(g.neighbors(n)) for n in g ])  \n",
    "  L = K - J\n",
    "#   print J\n",
    "#   print L\n",
    "  \n",
    "  w = np.linalg.eigvals(L)\n",
    "\n",
    "#   L = nx.laplacian_matrix(g, weight=\"sign\") \n",
    "#   w = np.linalg.eigvals(L.todense())\n",
    "  \n",
    "#   print w\n",
    "  \n",
    "  #return min(w) == 0\n",
    "  return True in np.isclose(w, 0)\n",
    "\n",
    "print map(is_balanced, [ balanced_graph_1, balanced_graph_2, balanced_graph_3, balanced_graph_4 ] )\n",
    "print map(is_balanced, [ unbalanced_graph_1, unbalanced_graph_2, unbalanced_graph_3, unbalanced_graph_4 ] )\n",
    "print map(is_balanced, [ unbalanced_graph_5 ] )"
   ]
  },
  {
   "cell_type": "code",
   "execution_count": 43,
   "metadata": {
    "collapsed": false
   },
   "outputs": [
    {
     "name": "stdout",
     "output_type": "stream",
     "text": [
      "8.0\n"
     ]
    }
   ],
   "source": [
    "def energy_functional(g):\n",
    "  h = 0\n",
    "    \n",
    "  # J_ij := int(g[n1][n2][\"sign\"])\n",
    "  # s_i  := int(g.node[n1][\"s\"])\n",
    "  # s_j  := int(g.node[n2][\"s\"])\n",
    "\n",
    "  h = 0.5 * np.sum([ 1 - int(g[n1][n2][\"sign\"]) * int(g.node[n1][\"s\"]) * int(g.node[n2][\"s\"]) for n1 in g for n2 in g.neighbors(n1) ])\n",
    "  \n",
    "  return h\n",
    "\n",
    "# initialization of s\n",
    "for n in unbalanced_graph_5:\n",
    "  unbalanced_graph_5.node[n][\"s\"] = 1\n",
    "\n",
    "print energy_functional(unbalanced_graph_5)"
   ]
  }
 ],
 "metadata": {
  "kernelspec": {
   "display_name": "Python 2",
   "language": "python",
   "name": "python2"
  },
  "language_info": {
   "codemirror_mode": {
    "name": "ipython",
    "version": 2
   },
   "file_extension": ".py",
   "mimetype": "text/x-python",
   "name": "python",
   "nbconvert_exporter": "python",
   "pygments_lexer": "ipython2",
   "version": "2.7.11"
  }
 },
 "nbformat": 4,
 "nbformat_minor": 0
}
