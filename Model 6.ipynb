{
 "cells": [
  {
   "cell_type": "code",
   "execution_count": null,
   "metadata": {
    "collapsed": true
   },
   "outputs": [],
   "source": [
    "import pandas as pd"
   ]
  },
  {
   "cell_type": "code",
   "execution_count": null,
   "metadata": {
    "collapsed": false
   },
   "outputs": [],
   "source": [
    "# http://gdeltproject.org/data/lookups/CSV.header.historical.txt\n",
    "\n",
    "columns = \"\"\"\n",
    "GLOBALEVENTID\tSQLDATE\tMonthYear\tYear\tFractionDate\tActor1Code\tActor1Name\tActor1CountryCode\tActor1KnownGroupCode\tActor1EthnicCode\tActor1Religion1Code\tActor1Religion2Code\tActor1Type1Code\tActor1Type2Code\tActor1Type3Code\tActor2Code\tActor2Name\tActor2CountryCode\tActor2KnownGroupCode\tActor2EthnicCode\tActor2Religion1Code\tActor2Religion2Code\tActor2Type1Code\tActor2Type2Code\tActor2Type3Code\tIsRootEvent\tEventCode\tEventBaseCode\tEventRootCode\tQuadClass\tGoldsteinScale\tNumMentions\tNumSources\tNumArticles\tAvgTone\tActor1Geo_Type\tActor1Geo_FullName\tActor1Geo_CountryCode\tActor1Geo_ADM1Code\tActor1Geo_Lat\tActor1Geo_Long\tActor1Geo_FeatureID\tActor2Geo_Type\tActor2Geo_FullName\tActor2Geo_CountryCode\tActor2Geo_ADM1Code\tActor2Geo_Lat\tActor2Geo_Long\tActor2Geo_FeatureID\tActionGeo_Type\tActionGeo_FullName\tActionGeo_CountryCode\tActionGeo_ADM1Code\tActionGeo_Lat\tActionGeo_Long\tActionGeo_FeatureID\tDATEADDED\n",
    "\"\"\"\n",
    "\n",
    "columns = columns.split()\n",
    "\n",
    "print len(columns)\n",
    "print columns"
   ]
  },
  {
   "cell_type": "code",
   "execution_count": null,
   "metadata": {
    "collapsed": false
   },
   "outputs": [],
   "source": [
    "df = pd.read_table(\"datasets/2001.csv\", header=None, names=columns)"
   ]
  },
  {
   "cell_type": "code",
   "execution_count": null,
   "metadata": {
    "collapsed": false
   },
   "outputs": [],
   "source": [
    "print len(df)\n",
    "df.head(5)"
   ]
  },
  {
   "cell_type": "code",
   "execution_count": 1,
   "metadata": {
    "collapsed": true
   },
   "outputs": [],
   "source": [
    "import networkx as nx"
   ]
  },
  {
   "cell_type": "code",
   "execution_count": null,
   "metadata": {
    "collapsed": true
   },
   "outputs": [],
   "source": [
    "g = nx.Graph() # nx.DiGraph()"
   ]
  },
  {
   "cell_type": "code",
   "execution_count": null,
   "metadata": {
    "collapsed": false
   },
   "outputs": [],
   "source": [
    "for index in range(1000):\n",
    "  row = df.iloc[index,:]\n",
    "  \n",
    "  if row[\"Actor1Name\"] != \"\" and row[\"Actor2Name\"] != \"\":\n",
    "    g.add_edge(row[\"Actor1Name\"], row[\"Actor2Name\"])\n",
    "    \n",
    "print len(g.nodes())\n",
    "print len(g.edges())"
   ]
  },
  {
   "cell_type": "code",
   "execution_count": null,
   "metadata": {
    "collapsed": false
   },
   "outputs": [],
   "source": [
    "%matplotlib inline\n",
    "nx.draw(g, pos=nx.spring_layout(g))"
   ]
  },
  {
   "cell_type": "code",
   "execution_count": 2,
   "metadata": {
    "collapsed": false
   },
   "outputs": [
    {
     "name": "stdout",
     "output_type": "stream",
     "text": [
      "1000\n",
      "7900\n"
     ]
    }
   ],
   "source": [
    "import random\n",
    "\n",
    "sim = nx.Graph()\n",
    "\n",
    "mean_cp = 3\n",
    "mean_cn = 5\n",
    "\n",
    "mean_c = mean_cp + mean_cn\n",
    "\n",
    "sim.add_nodes_from(range(1000))\n",
    "\n",
    "N = len(sim.nodes())\n",
    "\n",
    "for n1 in sim.nodes():\n",
    "  for n2 in [ n2 for n2 in sim.nodes() if n2 != n1 ]:\n",
    "    if mean_cp/float(N) > random.random():\n",
    "      sim.add_edge(n1, n2, sign=\"+\")\n",
    "    elif mean_cn/float(N) > random.random():\n",
    "      sim.add_edge(n1, n2, sign=\"-\")\n",
    "\n",
    "print len(sim.nodes())\n",
    "print len(sim.edges())"
   ]
  },
  {
   "cell_type": "code",
   "execution_count": 4,
   "metadata": {
    "collapsed": false
   },
   "outputs": [
    {
     "name": "stdout",
     "output_type": "stream",
     "text": [
      "[[512, 380, 537, 251, 0], [667, 380, 537], [252, 380, 537], [234, 446, 380, 537], [628, 446, 380, 537, 251, 0], [280, 375, 446], [143, 543, 375, 446, 380, 537, 251], [586, 309, 543, 375, 446, 380, 537, 251], [879, 309, 543, 375, 446], [667, 309, 543, 375, 446, 380], [145, 475, 309, 543, 375, 446, 380, 537, 251, 0], [52, 475, 309, 543, 375, 446], [183, 475, 309, 543, 375], [335, 981, 475, 309, 543, 375, 446, 380, 537], [632, 981, 475, 309, 543, 375, 446, 380, 537], [829, 981, 475, 309], [807, 735, 981, 475, 309, 543, 375, 446, 380, 537, 251], [700, 735, 981, 475, 309, 543, 375, 446, 380, 537], [146, 602, 735, 981, 475], [512, 732, 602, 735, 981, 475, 309, 543, 375, 446, 380]]\n",
      "6901\n"
     ]
    }
   ],
   "source": [
    "def is_balanced(g_sub):\n",
    "  cycles = list(nx.cycle_basis(g_sub))\n",
    "  \n",
    "  print cycles[0:20]\n",
    "  \n",
    "  print len(cycles)\n",
    "\n",
    "is_balanced(sim)  "
   ]
  }
 ],
 "metadata": {
  "kernelspec": {
   "display_name": "Python 2",
   "language": "python",
   "name": "python2"
  },
  "language_info": {
   "codemirror_mode": {
    "name": "ipython",
    "version": 2
   },
   "file_extension": ".py",
   "mimetype": "text/x-python",
   "name": "python",
   "nbconvert_exporter": "python",
   "pygments_lexer": "ipython2",
   "version": "2.7.11"
  }
 },
 "nbformat": 4,
 "nbformat_minor": 0
}
